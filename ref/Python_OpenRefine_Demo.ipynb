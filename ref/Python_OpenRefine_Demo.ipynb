{
 "cells": [
  {
   "attachments": {},
   "cell_type": "markdown",
   "metadata": {},
   "source": [
    "## Start OpenRefine service on MyBinder"
   ]
  },
  {
   "cell_type": "code",
   "execution_count": null,
   "metadata": {},
   "outputs": [],
   "source": [
    "import subprocess\n",
    "import time\n",
    "subprocess.call(\"./start_refine.sh\",shell=True)\n",
    "\n",
    "#wait for 10 seconds\n",
    "time.sleep(10)"
   ]
  },
  {
   "cell_type": "code",
   "execution_count": null,
   "metadata": {},
   "outputs": [],
   "source": [
    "from google.refine import refine\n",
    "import pandas as pd"
   ]
  },
  {
   "attachments": {},
   "cell_type": "markdown",
   "metadata": {},
   "source": [
    "## Check OpenRefine Server connection\n",
    "\n",
    "Check connection and create an object for open refine server transaction: refine_server"
   ]
  },
  {
   "cell_type": "code",
   "execution_count": null,
   "metadata": {},
   "outputs": [],
   "source": [
    "refine.RefineServer().get_version()"
   ]
  },
  {
   "cell_type": "code",
   "execution_count": null,
   "metadata": {},
   "outputs": [],
   "source": [
    "refine_server = refine.Refine(refine.RefineServer())"
   ]
  },
  {
   "cell_type": "code",
   "execution_count": null,
   "metadata": {},
   "outputs": [],
   "source": [
    "def list_project(refine_server):\n",
    "    return pd.DataFrame(refine_server.list_projects()).transpose().reset_index().rename({\"index\":\"ProjectId\"},axis=1)"
   ]
  },
  {
   "cell_type": "code",
   "execution_count": null,
   "metadata": {},
   "outputs": [],
   "source": [
    "def search_project(refine_server,project_name):\n",
    "    t = list_project(refine_server)\n",
    "    if t.shape[0]>0:\n",
    "        t = t[t.name==project_name]\n",
    "    return t"
   ]
  },
  {
   "cell_type": "code",
   "execution_count": null,
   "metadata": {},
   "outputs": [],
   "source": [
    "search_project(refine_server,\"drugs com test\")"
   ]
  },
  {
   "attachments": {},
   "cell_type": "markdown",
   "metadata": {},
   "source": [
    "## List OpenRefine Projects using list_projects() method"
   ]
  },
  {
   "cell_type": "code",
   "execution_count": null,
   "metadata": {},
   "outputs": [],
   "source": [
    "class RefineServerHelper():\n",
    "    def __init__(self, refine_server):\n",
    "        self.refine_server = refine_server\n",
    "            \n",
    "    def list_projects(self):\n",
    "        \"\"\"\n",
    "        list OpenRefine project \n",
    "        \"\"\"\n",
    "        return pd.DataFrame(self.refine_server.list_projects()).transpose().reset_index().rename({\"index\":\"ProjectId\"},axis=1)\n",
    "\n",
    "    def search_projects(self,project_name):\n",
    "        \"\"\"\n",
    "        search project by name\n",
    "        \"\"\"\n",
    "        t = self.list_projects()\n",
    "        if t.shape[0]>0:\n",
    "            t = t[t.name==project_name]\n",
    "        #return pd.DataFrame(list(zip(t.index,t.name)),columns=[\"Project ID\",\"Project Name\"])        \n",
    "        return t    \n",
    "    \n",
    "    def delete_project_byname(self,project_name):\n",
    "        \"\"\"\n",
    "        delete project by name\n",
    "        \"\"\"\n",
    "        t = self.search_projects(project_name)\n",
    "        for x in t.ProjectId.values:\n",
    "            if self.refine_server.open_project(project_id=x).delete():\n",
    "                print(\"Project {} deleted\".format(x))\n",
    "                \n",
    "    def open_project_byname(self,project_name,project_id=None):\n",
    "        \"\"\"\n",
    "        open an openrefine project by name\n",
    "        \"\"\"\n",
    "        if project_id == None:\n",
    "            t = self.search_projects(project_name)\n",
    "            if t.shape[0] == 0:\n",
    "                raise Exception(\"No instance with Project Name: '{}' exist\".format(project_name,t.loc[:,[\"ProjectId\",\"Project Name\"]]))\n",
    "            if t.shape[0] > 1:\n",
    "                raise Exception(\"More than one instance with Project Name: '{}'\\n{}\\nPlease specify the project id\".format(project_name,t.loc[:,[\"ProjectId\",\"Project Name\"]]))\n",
    "            project_id = t.ProjectId.values[0]\n",
    "        else:\n",
    "            project_name = refine_server.get_project_name(project_id)\n",
    "        self.active_project = self.refine_server.open_project(project_id)\n",
    "        print(\"OpenRefine Project {} opened, access using active_project property\".format(project_name))\n",
    "        return self.active_project\n",
    "    \n",
    "    def get_number_columns(self):\n",
    "        return len(self.active_project.columns)\n",
    "    \n",
    "    def get_number_rows(self):\n",
    "        return self.active_project.get_rows().total\n",
    "    \n",
    "    def get_rows(self,start=0,limit=10):    \n",
    "        temp_rows = []\n",
    "        for x in self.active_project.get_rows(start=start,limit = limit).rows.rows_response:\n",
    "            temp_cells = []\n",
    "            for y_t in self.active_project.get_models()[\"columnModel\"][\"columns\"]:\n",
    "                y = x[\"cells\"][y_t[\"cellIndex\"]]\n",
    "                if y!=None:\n",
    "                    temp_cells.append(y[\"v\"])\n",
    "                else:\n",
    "                    temp_cells.append(None)\n",
    "            temp_rows.append(temp_cells)\n",
    "        return pd.DataFrame(temp_rows,columns=self.active_project.columns)    \n",
    "    \n",
    "    def to_lowercase(self,column_name):\n",
    "        return self.active_project.text_transform(column=column_name,expression=\"value.toLowercase()\")\n",
    "\n",
    "    def to_uppercase(self,column_name):\n",
    "        return self.active_project.text_transform(column=column_name,expression=\"value.toUppercase()\")\n",
    "        \n",
    "    def to_titlecase(self,column_name):\n",
    "        return self.active_project.text_transform(column=column_name,expression=\"value.toTitlecase()\")\n",
    "    \n",
    "    def cluster(self,column_name,cluster_type=\"binning\",function=None,params=None):\n",
    "        return pd.DataFrame(drug_project.compute_clusters(column_name,cluster_type,function,params))"
   ]
  },
  {
   "cell_type": "code",
   "execution_count": null,
   "metadata": {},
   "outputs": [],
   "source": [
    "refine_helper = RefineServerHelper(refine_server)"
   ]
  },
  {
   "cell_type": "code",
   "execution_count": null,
   "metadata": {},
   "outputs": [],
   "source": [
    "refine_helper.list_projects()"
   ]
  },
  {
   "attachments": {},
   "cell_type": "markdown",
   "metadata": {},
   "source": [
    "## Create a New Project"
   ]
  },
  {
   "cell_type": "code",
   "execution_count": null,
   "metadata": {},
   "outputs": [],
   "source": [
    "# Download file\n",
    "!wget https://github.com/nikolausn/Data_Cleaning_Python_Exercise/blob/master/drugsComTest_raw.tsv?raw=true -O drugsComTest_raw.tsv"
   ]
  },
  {
   "cell_type": "code",
   "execution_count": null,
   "metadata": {},
   "outputs": [],
   "source": [
    "# delete project if exist\n",
    "refine_helper.delete_project_byname(\"drugs com test\")"
   ]
  },
  {
   "cell_type": "code",
   "execution_count": null,
   "metadata": {},
   "outputs": [],
   "source": [
    "drug_project = refine_server.new_project(project_file=\"drugsComTest_raw.tsv\",project_name=\"drugs com test\",separator=\"\\t\")"
   ]
  },
  {
   "cell_type": "code",
   "execution_count": null,
   "metadata": {},
   "outputs": [],
   "source": [
    "refine_helper.search_projects(\"drugs com test\")"
   ]
  },
  {
   "cell_type": "code",
   "execution_count": null,
   "metadata": {},
   "outputs": [],
   "source": [
    "drug_project.list_history()"
   ]
  },
  {
   "attachments": {},
   "cell_type": "markdown",
   "metadata": {},
   "source": [
    "## Open the drug project"
   ]
  },
  {
   "cell_type": "code",
   "execution_count": null,
   "metadata": {},
   "outputs": [],
   "source": [
    "drug_project = refine_helper.open_project_byname(\"drugs com test\")"
   ]
  },
  {
   "cell_type": "code",
   "execution_count": null,
   "metadata": {},
   "outputs": [],
   "source": [
    "refine_helper.active_project.project_name()"
   ]
  },
  {
   "cell_type": "code",
   "execution_count": null,
   "metadata": {},
   "outputs": [],
   "source": [
    "# number of columns\n",
    "refine_helper.get_number_columns()"
   ]
  },
  {
   "cell_type": "code",
   "execution_count": null,
   "metadata": {},
   "outputs": [],
   "source": [
    "refine_helper.get_number_rows()"
   ]
  },
  {
   "attachments": {},
   "cell_type": "markdown",
   "metadata": {},
   "source": [
    "### Get List of Columns"
   ]
  },
  {
   "cell_type": "code",
   "execution_count": null,
   "metadata": {},
   "outputs": [],
   "source": [
    "drug_project.columns"
   ]
  },
  {
   "attachments": {},
   "cell_type": "markdown",
   "metadata": {},
   "source": [
    "### Look at the rows"
   ]
  },
  {
   "cell_type": "code",
   "execution_count": null,
   "metadata": {},
   "outputs": [],
   "source": [
    "refine_helper.get_rows(start=0,limit=20)"
   ]
  },
  {
   "attachments": {},
   "cell_type": "markdown",
   "metadata": {},
   "source": [
    "### create a new column for cleaning"
   ]
  },
  {
   "cell_type": "code",
   "execution_count": null,
   "metadata": {},
   "outputs": [],
   "source": [
    "drug_project.add_column(column=\"review\",new_column=\"review_cleaned\")"
   ]
  },
  {
   "cell_type": "code",
   "execution_count": null,
   "metadata": {},
   "outputs": [],
   "source": [
    "refine_helper.get_rows()"
   ]
  },
  {
   "attachments": {},
   "cell_type": "markdown",
   "metadata": {},
   "source": [
    "### tolower Operation on review_cleaned"
   ]
  },
  {
   "cell_type": "code",
   "execution_count": null,
   "metadata": {},
   "outputs": [],
   "source": [
    "refine_helper.to_lowercase(\"review_cleaned\")"
   ]
  },
  {
   "cell_type": "code",
   "execution_count": null,
   "metadata": {},
   "outputs": [],
   "source": [
    "refine_helper.get_rows()"
   ]
  },
  {
   "attachments": {},
   "cell_type": "markdown",
   "metadata": {},
   "source": [
    "### Delete the first and last quote \" in the review_cleaned column using regular expression"
   ]
  },
  {
   "cell_type": "code",
   "execution_count": null,
   "metadata": {},
   "outputs": [],
   "source": [
    "# beginning quote\n",
    "drug_project.text_transform(column=\"review_cleaned\",expression=\"value.replace(/^\\\"/,\\\"\\\")\")"
   ]
  },
  {
   "cell_type": "code",
   "execution_count": null,
   "metadata": {},
   "outputs": [],
   "source": [
    "drug_project.text_transform(column=\"review_cleaned\",expression='value.replace(/\"$/,\"\")')"
   ]
  },
  {
   "cell_type": "code",
   "execution_count": null,
   "metadata": {},
   "outputs": [],
   "source": [
    "refine_helper.get_rows()"
   ]
  },
  {
   "attachments": {},
   "cell_type": "markdown",
   "metadata": {},
   "source": [
    "## To date operation"
   ]
  },
  {
   "cell_type": "code",
   "execution_count": null,
   "metadata": {},
   "outputs": [],
   "source": [
    "# copy column date\n",
    "drug_project.add_column(column=\"date\",new_column=\"date_cleaned\")"
   ]
  },
  {
   "cell_type": "code",
   "execution_count": null,
   "metadata": {},
   "outputs": [],
   "source": [
    "refine_helper.get_rows()"
   ]
  },
  {
   "cell_type": "code",
   "execution_count": null,
   "metadata": {},
   "outputs": [],
   "source": [
    "drug_project.text_transform(column=\"date_cleaned\",expression=\"value.toDate()\")"
   ]
  },
  {
   "cell_type": "code",
   "execution_count": null,
   "metadata": {},
   "outputs": [],
   "source": [
    "refine_helper.get_rows()"
   ]
  },
  {
   "attachments": {},
   "cell_type": "markdown",
   "metadata": {},
   "source": [
    "### Cluster operation"
   ]
  },
  {
   "cell_type": "code",
   "execution_count": null,
   "metadata": {},
   "outputs": [],
   "source": [
    "review_cluster = drug_project.compute_clusters(\"review_cleaned\")"
   ]
  },
  {
   "cell_type": "code",
   "execution_count": null,
   "metadata": {},
   "outputs": [],
   "source": [
    "pd.DataFrame(review_cluster)"
   ]
  },
  {
   "attachments": {},
   "cell_type": "markdown",
   "metadata": {},
   "source": [
    "## merge cluster 1"
   ]
  },
  {
   "cell_type": "code",
   "execution_count": null,
   "metadata": {},
   "outputs": [],
   "source": [
    "cluster_1 = [ x[\"value\"] for x in review_cluster[0]]\n",
    "cluster_1"
   ]
  },
  {
   "cell_type": "code",
   "execution_count": null,
   "metadata": {},
   "outputs": [],
   "source": [
    "drug_project.mass_edit(\"review_cleaned\",edits=[{'from':cluster_1,'to':\"love it\"}])"
   ]
  },
  {
   "attachments": {},
   "cell_type": "markdown",
   "metadata": {},
   "source": [
    "### use refine helper to show new cluster"
   ]
  },
  {
   "cell_type": "code",
   "execution_count": null,
   "metadata": {},
   "outputs": [],
   "source": [
    "refine_helper.cluster(\"review_cleaned\")"
   ]
  },
  {
   "attachments": {},
   "cell_type": "markdown",
   "metadata": {},
   "source": [
    "### Play with History"
   ]
  },
  {
   "cell_type": "code",
   "execution_count": null,
   "metadata": {},
   "outputs": [],
   "source": [
    "drug_project.list_history()"
   ]
  },
  {
   "cell_type": "code",
   "execution_count": null,
   "metadata": {},
   "outputs": [],
   "source": [
    "drug_project.add_column(column=\"review\",new_column=\"review_test_history\")"
   ]
  },
  {
   "cell_type": "code",
   "execution_count": null,
   "metadata": {},
   "outputs": [],
   "source": [
    "refine_helper.get_rows()"
   ]
  },
  {
   "cell_type": "code",
   "execution_count": null,
   "metadata": {},
   "outputs": [],
   "source": [
    "drug_project.list_history()"
   ]
  },
  {
   "cell_type": "code",
   "execution_count": null,
   "metadata": {},
   "outputs": [],
   "source": [
    "drug_project.undo_project(history_id=drug_project.list_history()[\"past\"][-2][\"id\"])"
   ]
  },
  {
   "cell_type": "code",
   "execution_count": null,
   "metadata": {},
   "outputs": [],
   "source": [
    "drug_project.list_history()"
   ]
  },
  {
   "cell_type": "code",
   "execution_count": null,
   "metadata": {},
   "outputs": [],
   "source": [
    "drug_project.add_column(column=\"review\",new_column=\"review_test_history_new\")"
   ]
  },
  {
   "cell_type": "code",
   "execution_count": null,
   "metadata": {},
   "outputs": [],
   "source": [
    "drug_project.list_history()"
   ]
  },
  {
   "cell_type": "code",
   "execution_count": null,
   "metadata": {},
   "outputs": [],
   "source": [
    "refine_helper.get_rows()"
   ]
  },
  {
   "cell_type": "code",
   "execution_count": null,
   "metadata": {},
   "outputs": [],
   "source": [
    "!pip list"
   ]
  },
  {
   "cell_type": "code",
   "execution_count": null,
   "metadata": {},
   "outputs": [],
   "source": []
  }
 ],
 "metadata": {
  "anaconda-cloud": {},
  "kernelspec": {
   "display_name": "Python 3 (ipykernel)",
   "language": "python",
   "name": "python3"
  },
  "language_info": {
   "codemirror_mode": {
    "name": "ipython",
    "version": 3
   },
   "file_extension": ".py",
   "mimetype": "text/x-python",
   "name": "python",
   "nbconvert_exporter": "python",
   "pygments_lexer": "ipython3",
   "version": "3.11.4"
  }
 },
 "nbformat": 4,
 "nbformat_minor": 4
}
